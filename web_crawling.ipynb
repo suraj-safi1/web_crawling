{
  "nbformat": 4,
  "nbformat_minor": 0,
  "metadata": {
    "colab": {
      "name": "web_crawling.ipynb",
      "provenance": [],
      "collapsed_sections": [],
      "authorship_tag": "ABX9TyM+Yyw747Gi00+QoOf1y6YD",
      "include_colab_link": true
    },
    "kernelspec": {
      "name": "python3",
      "display_name": "Python 3"
    },
    "language_info": {
      "name": "python"
    }
  },
  "cells": [
    {
      "cell_type": "markdown",
      "metadata": {
        "id": "view-in-github",
        "colab_type": "text"
      },
      "source": [
        "<a href=\"https://colab.research.google.com/github/suraj-safi1/web_crawling/blob/main/web_crawling.ipynb\" target=\"_parent\"><img src=\"https://colab.research.google.com/assets/colab-badge.svg\" alt=\"Open In Colab\"/></a>"
      ]
    },
    {
      "cell_type": "code",
      "source": [
        "pip install requests"
      ],
      "metadata": {
        "colab": {
          "base_uri": "https://localhost:8080/"
        },
        "id": "icGSxiAGsxo1",
        "outputId": "d5d83cf4-a331-47f7-9270-debff94d9007"
      },
      "execution_count": null,
      "outputs": [
        {
          "output_type": "stream",
          "name": "stdout",
          "text": [
            "Requirement already satisfied: requests in /usr/local/lib/python3.7/dist-packages (2.23.0)\n",
            "Requirement already satisfied: idna<3,>=2.5 in /usr/local/lib/python3.7/dist-packages (from requests) (2.10)\n",
            "Requirement already satisfied: urllib3!=1.25.0,!=1.25.1,<1.26,>=1.21.1 in /usr/local/lib/python3.7/dist-packages (from requests) (1.24.3)\n",
            "Requirement already satisfied: chardet<4,>=3.0.2 in /usr/local/lib/python3.7/dist-packages (from requests) (3.0.4)\n",
            "Requirement already satisfied: certifi>=2017.4.17 in /usr/local/lib/python3.7/dist-packages (from requests) (2021.10.8)\n"
          ]
        }
      ]
    },
    {
      "cell_type": "code",
      "source": [
        "pip install bs4"
      ],
      "metadata": {
        "colab": {
          "base_uri": "https://localhost:8080/"
        },
        "id": "nKdFzbTCwEUi",
        "outputId": "8b1e7893-f9b6-4dad-c8bf-f95b077b9fc8"
      },
      "execution_count": null,
      "outputs": [
        {
          "output_type": "stream",
          "name": "stdout",
          "text": [
            "Requirement already satisfied: bs4 in /usr/local/lib/python3.7/dist-packages (0.0.1)\n",
            "Requirement already satisfied: beautifulsoup4 in /usr/local/lib/python3.7/dist-packages (from bs4) (4.6.3)\n"
          ]
        }
      ]
    },
    {
      "cell_type": "code",
      "source": [
        "pip install html5lib"
      ],
      "metadata": {
        "colab": {
          "base_uri": "https://localhost:8080/"
        },
        "id": "GYl8LAZgwJsa",
        "outputId": "d1416c71-bc42-427b-dfe7-edb7d2dec583"
      },
      "execution_count": null,
      "outputs": [
        {
          "output_type": "stream",
          "name": "stdout",
          "text": [
            "Requirement already satisfied: html5lib in /usr/local/lib/python3.7/dist-packages (1.0.1)\n",
            "Requirement already satisfied: six>=1.9 in /usr/local/lib/python3.7/dist-packages (from html5lib) (1.15.0)\n",
            "Requirement already satisfied: webencodings in /usr/local/lib/python3.7/dist-packages (from html5lib) (0.5.1)\n"
          ]
        }
      ]
    },
    {
      "cell_type": "code",
      "source": [
        "import requests\n",
        "from bs4 import BeautifulSoup"
      ],
      "metadata": {
        "id": "1FYsaTulwNb9"
      },
      "execution_count": null,
      "outputs": []
    },
    {
      "cell_type": "code",
      "source": [
        "url=\"https://www.codewithharry.com\""
      ],
      "metadata": {
        "id": "7HMTMClowjgZ"
      },
      "execution_count": null,
      "outputs": []
    },
    {
      "cell_type": "code",
      "source": [
        "r=requests.get(url)"
      ],
      "metadata": {
        "id": "RtnhLQrJwqdz"
      },
      "execution_count": null,
      "outputs": []
    },
    {
      "cell_type": "code",
      "source": [
        "htmlContent =r.content"
      ],
      "metadata": {
        "id": "hMAoY22jxL2F"
      },
      "execution_count": null,
      "outputs": []
    },
    {
      "cell_type": "code",
      "source": [
        "print(htmlContent)"
      ],
      "metadata": {
        "colab": {
          "base_uri": "https://localhost:8080/"
        },
        "id": "zaeFOYHTxVVR",
        "outputId": "f8d8f7d3-a138-4271-a9bb-9fb8050ba556"
      },
      "execution_count": null,
      "outputs": [
        {
          "output_type": "stream",
          "name": "stdout",
          "text": [
            "b'<!DOCTYPE html><html lang=\"en\"><head><meta name=\"viewport\" content=\"width=device-width\"/><meta charSet=\"utf-8\"/><script async=\"\" src=\"https://pagead2.googlesyndication.com/pagead/js/adsbygoogle.js?client=ca-pub-9655830461045889\" crossorigin=\"anonymous\"></script><script>(function(w,d,s,l,i){w[l]=w[l]||[];w[l].push({\\'gtm.start\\':\\n        new Date().getTime(),event:\\'gtm.js\\'});var f=d.getElementsByTagName(s)[0],\\n        j=d.createElement(s),dl=l!=\\'dataLayer\\'?\\'&l=\\'+l:\\'\\';j.async=true;j.src=\\n        \\'https://www.googletagmanager.com/gtm.js?id=\\'+i+dl;f.parentNode.insertBefore(j,f);\\n        })(window,document,\\'script\\',\\'dataLayer\\',\\'GTM-MCDDKRF\\');</script><title>Home | CodeWithHarry</title><meta name=\"description\" content=\"Welcome to Code With Harry. Code With Harry is my attempt to teach basics and those coding techniques to people in short time which took me ages to learn.\"/><link rel=\"icon\" href=\"/favicon.ico\"/><meta name=\"next-head-count\" content=\"7\"/><link rel=\"preload\" href=\"/_next/static/css/95fea26d92efb53e.css\" as=\"style\"/><link rel=\"stylesheet\" href=\"/_next/static/css/95fea26d92efb53e.css\" data-n-g=\"\"/><link rel=\"preload\" href=\"/_next/static/css/39f4d8aba4b66723.css\" as=\"style\"/><link rel=\"stylesheet\" href=\"/_next/static/css/39f4d8aba4b66723.css\" data-n-p=\"\"/><noscript data-n-css=\"\"></noscript><script defer=\"\" nomodule=\"\" src=\"/_next/static/chunks/polyfills-5cd94c89d3acac5f.js\"></script><script src=\"/_next/static/chunks/webpack-cb79fe2bfb796200.js\" defer=\"\"></script><script src=\"/_next/static/chunks/framework-91d7f78b5b4003c8.js\" defer=\"\"></script><script src=\"/_next/static/chunks/main-728af1fb3715c9e8.js\" defer=\"\"></script><script src=\"/_next/static/chunks/pages/_app-7ccd4159d18b03be.js\" defer=\"\"></script><script src=\"/_next/static/chunks/pages/index-afddd706d45453a5.js\" defer=\"\"></script><script src=\"/_next/static/9rAsIMEs_GxbF_g36jSpj/_buildManifest.js\" defer=\"\"></script><script src=\"/_next/static/9rAsIMEs_GxbF_g36jSpj/_ssgManifest.js\" defer=\"\"></script><script src=\"/_next/static/9rAsIMEs_GxbF_g36jSpj/_middlewareManifest.js\" defer=\"\"></script></head><body><noscript><iframe src=\"https://www.googletagmanager.com/ns.html?id=GTM-MCDDKRF\" height=\"0\" width=\"0\" style=\"display:none;visibility:hidden\"></iframe></noscript><div id=\"__next\"><div class=\" w-full z-10 sticky bg-white top-0 border-b border-grey-light\"><div class=\"w-full flex flex-wrap items-center lg:justify-between mt-0 py-4 justify-center\"><div class=\" mx-0 px-0 lg:pl-4 flex items-center lg:mx-4\"><span class=\"text-teal-700 no-underline hover:no-underline font-bold text-xl text-purple-800\"><a href=\"/\">CodeWithHarry</a></span></div><div class=\"pr-4 absolute top-1 right-1 pt-3\"><button class=\"lg:hidden flex items-center px-3 py-2 border rounded text-grey border-grey-dark hover:text-black hover:border-purple appearance-none focus:outline-none\"><svg class=\"fill-current h-3 w-3\" viewBox=\"0 0 20 20\" xmlns=\"http://www.w3.org/2000/svg\"><title>Menu</title><path d=\"M0 3h20v2H0V3zm0 6h20v2H0V9zm0 6h20v2H0v-2z\"></path></svg></button></div><div class=\"w-full flex-grow lg:flex lg:flex-1 lg:content-center lg:justify-end lg:w-auto h-0 lg:h-auto overflow-hidden mt-2 lg:mt-0 z-20 transition-all\" id=\"nav-content\"><ul class=\"flex items-center flex-col lg:flex-row\"><div id=\"search-toggle\" class=\"search-icon cursor-pointer px-6 hidden\"><svg class=\"fill-current pointer-events-none text-grey-darkest w-4 h-4 inline\" xmlns=\"http://www.w3.org/2000/svg\" viewBox=\"0 0 20 20\"><path d=\"M12.9 14.32a8 8 0 1 1 1.41-1.41l5.35 5.33-1.42 1.42-5.33-5.34zM8 14A6 6 0 1 0 8 2a6 6 0 0 0 0 12z\"></path></svg></div><li class=\"mx-2 my-2\"><a href=\"/\">Home</a></li><li class=\"mx-2 my-2\"><a href=\"/videos/\">Courses</a></li><li class=\"mx-2 my-2\"><a href=\"/blog/\">Blog</a></li><li class=\"mx-2 my-2\"><a href=\"/contact/\">Contact</a></li></ul><div class=\"text-center my-2 px-4\"><button id=\"login\" class=\"text-white bg-purple-700 hover:bg-purple-800 focus:ring-4 focus:ring-purple-300 font-medium rounded-lg text-sm px-3 py-2 text-center inline-flex items-center mx-1\">Login</button><button id=\"signup\" class=\"text-white bg-purple-700 hover:bg-purple-800 focus:ring-4 focus:ring-purple-300 font-medium rounded-lg text-sm px-3 py-2 text-center inline-flex items-center mx-1\">Signup</button></div></div></div></div><div class=\"relative w-full hidden bg-white shadow-xl\" id=\"search-content\"><div class=\"container mx-auto py-4 text-black\"><input type=\"search\" id=\"searchfield\" placeholder=\"Search...\" autofocus=\"\" class=\"w-full text-grey-800 transition focus:outline-none focus:border-transparent p-2 appearance-none leading-normal text-xl lg:text-2xl\"/></div></div><div class=\"mx-auto my-1\"></div><div class=\"\" style=\"position:fixed;top:0;left:0;height:2px;background:transparent;z-index:99999999999;width:100%\"><div class=\"\" style=\"height:100%;background:purple;transition:all 500ms ease;width:0%\"><div style=\"box-shadow:0 0 10px purple, 0 0 10px purple;width:5%;opacity:1;position:absolute;height:100%;transition:all 500ms ease;transform:rotate(3deg) translate(0px, -4px);left:-10rem\"></div></div></div><div class=\"Home_container__bCOhY\"><div class=\"flex bg-white h-96 container mx-auto\"><div class=\"flex items-center text-center lg:text-left px-8 md:px-12 lg:w-1/2\"><div><h2 class=\"text-3xl font-semibold text-gray-800 md:text-4xl\">Welcome to <span class=\"text-indigo-600\">CodeWithHarry</span></h2><p class=\"mt-2 text-sm text-gray-500 md:text-base\">Confused on which course to take? I have got you covered. Browse courses and find out the best course for you. Its free! Code With Harry is my attempt to teach basics and those coding techniques to people in short time which took me ages to learn.</p><div class=\"flex justify-center lg:justify-start mt-6\"><button class=\"px-3 py-2 lg:px-4 lg:py-3 bg-gray-900 text-gray-200 text-xs font-semibold rounded hover:bg-gray-800\">Free Courses</button><button class=\"px-3 py-2 mx-4 lg:px-4 lg:py-3 bg-gray-300 text-gray-900 text-xs font-semibold rounded hover:bg-gray-400\">Explore Blog</button></div></div></div><div class=\"hidden lg:block lg:w-1/2\" style=\"clip-path:polygon(10% 0, 100% 0%, 100% 100%, 0 100%)\"><div class=\"h-full object-cover\" style=\"background-image:url(https://images.unsplash.com/photo-1498050108023-c5249f4df085?ixlib=rb-1.2.1&amp;ixid=eyJhcHBfaWQiOjEyMDd9&amp;auto=format&amp;fit=crop&amp;w=1352&amp;q=80)\"><div class=\"h-full bg-black opacity-25\"></div></div></div></div><div class=\"container mx-auto lg:my-2\"><h2 class=\"text-3xl font-medium title-font text-gray-900 my-10 text-center\">Recommended Courses</h2><div class=\"flex flex-wrap\"><div class=\"lg:p-4 md:w-1/3 flex justify-center\"><div class=\"max-w-sm rounded-2xl overflow-hidden shadow-lg\"><img class=\"w-full\" src=\"https://codewithharry.nyc3.cdn.digitaloceanspaces.com/assets/e1c843acc10c59c60504cd438a082c6d.png\" alt=\"Tailwind Course In Hindi\"/><div class=\"px-6 py-4 lg:h-52\"><span class=\"tracking-widest text-xs title-font font-medium text-gray-400 mb-1\">Free Course</span><div class=\"title-font text-lg font-medium text-gray-900 mb-3\"><a href=\"/videos/tailwind-course-in-hindi-1/\">Tailwind Course In Hindi</a></div><p class=\"text-gray-700 text-base\">Complete Tailwind CSS Course by CodeWithHarry in Hindi - Learn Tailwind CSS from scratch for free! </p></div><div class=\"px-6 pt-4 pb-2\"><span class=\"inline-block bg-purple-800 rounded-full px-3 py-2 text-sm font-semibold text-white mr-2 mb-2 hover:bg-purple-600 cursor-pointer\"> Start Watching</span></div></div></div><div class=\"lg:p-4 md:w-1/3 flex justify-center\"><div class=\"max-w-sm rounded-2xl overflow-hidden shadow-lg\"><img class=\"w-full\" src=\"https://codewithharry.nyc3.cdn.digitaloceanspaces.com/assets/62f60049963012281edcc77dd2ec031b.png\" alt=\"Next.js Tutorials For Beginners\"/><div class=\"px-6 py-4 lg:h-52\"><span class=\"tracking-widest text-xs title-font font-medium text-gray-400 mb-1\">Free Course</span><div class=\"title-font text-lg font-medium text-gray-900 mb-3\"><a href=\"/videos/nextjs-tutorial-in-hindi-1/\">Next.js Tutorials For Beginners</a></div><p class=\"text-gray-700 text-base\">Complete Next.js Course by CodeWithHarry in Hindi - Learn Next.js from Scratch.</p></div><div class=\"px-6 pt-4 pb-2\"><span class=\"inline-block bg-purple-800 rounded-full px-3 py-2 text-sm font-semibold text-white mr-2 mb-2 hover:bg-purple-600 cursor-pointer\"> Start Watching</span></div></div></div><div class=\"lg:p-4 md:w-1/3 flex justify-center\"><div class=\"max-w-sm rounded-2xl overflow-hidden shadow-lg\"><img class=\"w-full\" src=\"https://codewithharry.nyc3.cdn.digitaloceanspaces.com/assets/090fefe24d23d47584f6ddc7eb5a241e.png\" alt=\"React Js Tutorials For Beginners\"/><div class=\"px-6 py-4 lg:h-52\"><span class=\"tracking-widest text-xs title-font font-medium text-gray-400 mb-1\">Free Course</span><div class=\"title-font text-lg font-medium text-gray-900 mb-3\"><a href=\"/videos/react-tutorials-in-hindi-1/\">React Js Tutorials For Beginners</a></div><p class=\"text-gray-700 text-base\">React is a free and open-source front-end JavaScript library. This series will cover React from starting to the end. We will learn react from the ground up!</p></div><div class=\"px-6 pt-4 pb-2\"><span class=\"inline-block bg-purple-800 rounded-full px-3 py-2 text-sm font-semibold text-white mr-2 mb-2 hover:bg-purple-600 cursor-pointer\"> Start Watching</span></div></div></div></div></div><div class=\"container mx-auto\"><section class=\"text-gray-600 body-font\"><div class=\"container px-5 py-12 mx-auto\"><h2 class=\"text-3xl font-medium title-font text-gray-900 mb-12 text-center\">Testimonials</h2><div class=\"flex flex-wrap -m-4\"><div class=\"p-4 md:w-1/2 w-full\"><div class=\"h-full bg-gray-100 p-8 rounded\"><svg xmlns=\"http://www.w3.org/2000/svg\" fill=\"currentColor\" class=\"block w-5 h-5 text-gray-400 mb-4\" viewBox=\"0 0 975.036 975.036\"><path d=\"M925.036 57.197h-304c-27.6 0-50 22.4-50 50v304c0 27.601 22.4 50 50 50h145.5c-1.9 79.601-20.4 143.3-55.4 191.2-27.6 37.8-69.399 69.1-125.3 93.8-25.7 11.3-36.8 41.7-24.8 67.101l36 76c11.6 24.399 40.3 35.1 65.1 24.399 66.2-28.6 122.101-64.8 167.7-108.8 55.601-53.7 93.7-114.3 114.3-181.9 20.601-67.6 30.9-159.8 30.9-276.8v-239c0-27.599-22.401-50-50-50zM106.036 913.497c65.4-28.5 121-64.699 166.9-108.6 56.1-53.7 94.4-114.1 115-181.2 20.6-67.1 30.899-159.6 30.899-277.5v-239c0-27.6-22.399-50-50-50h-304c-27.6 0-50 22.4-50 50v304c0 27.601 22.4 50 50 50h145.5c-1.9 79.601-20.4 143.3-55.4 191.2-27.6 37.8-69.4 69.1-125.3 93.8-25.7 11.3-36.8 41.7-24.8 67.101l35.9 75.8c11.601 24.399 40.501 35.2 65.301 24.399z\"></path></svg><p class=\"leading-relaxed mb-6\">I don&#x27;t have words to thank this man, I&#x27;m really grateful to have this channel and website in my daily routine. If you&#x27;re a mere beginner, then you can trust this guy and can put your time into his content. I can assure you that it&#x27;ll be worth it.</p><span class=\"inline-flex items-center\"><span class=\"flex-grow flex flex-col pl-4\"><span class=\"title-font font-medium text-gray-900\">Mohit Kumar</span><span class=\"text-gray-500 text-sm\">Web Developer</span></span></span></div></div><div class=\"p-4 md:w-1/2 w-full\"><div class=\"h-full bg-gray-100 p-8 rounded\"><svg xmlns=\"http://www.w3.org/2000/svg\" fill=\"currentColor\" class=\"block w-5 h-5 text-gray-400 mb-4\" viewBox=\"0 0 975.036 975.036\"><path d=\"M925.036 57.197h-304c-27.6 0-50 22.4-50 50v304c0 27.601 22.4 50 50 50h145.5c-1.9 79.601-20.4 143.3-55.4 191.2-27.6 37.8-69.399 69.1-125.3 93.8-25.7 11.3-36.8 41.7-24.8 67.101l36 76c11.6 24.399 40.3 35.1 65.1 24.399 66.2-28.6 122.101-64.8 167.7-108.8 55.601-53.7 93.7-114.3 114.3-181.9 20.601-67.6 30.9-159.8 30.9-276.8v-239c0-27.599-22.401-50-50-50zM106.036 913.497c65.4-28.5 121-64.699 166.9-108.6 56.1-53.7 94.4-114.1 115-181.2 20.6-67.1 30.899-159.6 30.899-277.5v-239c0-27.6-22.399-50-50-50h-304c-27.6 0-50 22.4-50 50v304c0 27.601 22.4 50 50 50h145.5c-1.9 79.601-20.4 143.3-55.4 191.2-27.6 37.8-69.4 69.1-125.3 93.8-25.7 11.3-36.8 41.7-24.8 67.101l35.9 75.8c11.601 24.399 40.501 35.2 65.301 24.399z\"></path></svg><p class=\"leading-relaxed mb-6\">For everyone who wants to level up their #Coding and #Dev skills - seriously, this channel is for you! Both basic and advanced stacks are covered on this channel, and one can learn according to his skill levels. And the icing on the cake is, everything is available for free.</p><span class=\"inline-flex items-center\"><span class=\"flex-grow flex flex-col pl-4\"><span class=\"title-font font-medium text-gray-900\">Rakesh Shetty</span><span class=\"text-gray-500 text-sm\">Web Developer</span></span></span></div></div></div></div></section></div></div><div><footer class=\"text-gray-600 body-font mt-8 px-10 bg-white\"><div class=\"px-2 py-4 mx-auto flex items-center sm:flex-row flex-col\"><span class=\"flex title-font font-medium items-center md:justify-start justify-center text-gray-900\"><img src=\"/img/logo-blue.png\" class=\"rounded h-12\"/><span class=\"ml-3 text-xl\">CodeWithHarry</span></span><p class=\"text-sm text-gray-500 sm:ml-4 sm:pl-4 sm:border-l-2 sm:border-gray-200 sm:py-2 sm:mt-0 mt-4 text-center\">Copyright \\xc2\\xa9 2022 CodeWithHarry.com</p><span class=\"inline-flex sm:ml-auto sm:mt-0 mt-4 justify-center sm:justify-start\"><a href=\"https://www.facebook.com/CodeWithHarry/\" target=\"_blank\" rel=\"noreferrer\" class=\"text-gray-500\"><svg fill=\"currentColor\" stroke-linecap=\"round\" stroke-linejoin=\"round\" stroke-width=\"2\" class=\"w-5 h-5\" viewBox=\"0 0 24 24\"><path d=\"M18 2h-3a5 5 0 00-5 5v3H7v4h3v8h4v-8h3l1-4h-4V7a1 1 0 011-1h3z\"></path></svg></a><a href=\"https://www.instagram.com/CodeWithHarry/\" target=\"_blank\" rel=\"noreferrer\" class=\"ml-3 text-gray-500\"><svg fill=\"none\" stroke=\"currentColor\" stroke-linecap=\"round\" stroke-linejoin=\"round\" stroke-width=\"2\" class=\"w-5 h-5\" viewBox=\"0 0 24 24\"><rect width=\"20\" height=\"20\" x=\"2\" y=\"2\" rx=\"5\" ry=\"5\"></rect><path d=\"M16 11.37A4 4 0 1112.63 8 4 4 0 0116 11.37zm1.5-4.87h.01\"></path></svg></a></span></div></footer></div></div><script id=\"__NEXT_DATA__\" type=\"application/json\">{\"props\":{\"pageProps\":{\"url\":\"https://cwh-apis-strapi-c39h9.ondigitalocean.app\",\"courses\":[{\"previewimg\":[{\"_id\":\"61e70ca3f8fae000115a0eb0\",\"name\":\"tailwind.png\",\"alternativeText\":\"\",\"caption\":\"\",\"hash\":\"e1c843acc10c59c60504cd438a082c6d\",\"ext\":\".png\",\"mime\":\"image/png\",\"size\":629.53,\"width\":1280,\"height\":720,\"url\":\"https://codewithharry.nyc3.cdn.digitaloceanspaces.com/assets/e1c843acc10c59c60504cd438a082c6d.png\",\"formats\":{\"thumbnail\":{\"name\":\"thumbnail_tailwind.png\",\"hash\":\"b7784c44bdbb1e7b8ece1317b0fdc76b\",\"ext\":\".png\",\"mime\":\"image/png\",\"width\":245,\"height\":138,\"size\":64.67,\"path\":null,\"url\":\"https://codewithharry.nyc3.cdn.digitaloceanspaces.com/assets/b7784c44bdbb1e7b8ece1317b0fdc76b.png\"},\"large\":{\"name\":\"large_tailwind.png\",\"hash\":\"74e0ceaabaf311cd95b57023a9b2fe22\",\"ext\":\".png\",\"mime\":\"image/png\",\"width\":1000,\"height\":563,\"size\":694.47,\"path\":null,\"url\":\"https://codewithharry.nyc3.cdn.digitaloceanspaces.com/assets/74e0ceaabaf311cd95b57023a9b2fe22.png\"},\"medium\":{\"name\":\"medium_tailwind.png\",\"hash\":\"92680d2b9cf6eb586b0a84f851d0de74\",\"ext\":\".png\",\"mime\":\"image/png\",\"width\":750,\"height\":422,\"size\":425.65,\"path\":null,\"url\":\"https://codewithharry.nyc3.cdn.digitaloceanspaces.com/assets/92680d2b9cf6eb586b0a84f851d0de74.png\"},\"small\":{\"name\":\"small_tailwind.png\",\"hash\":\"406fa0451668f7448dfbb0e9ab7d4f95\",\"ext\":\".png\",\"mime\":\"image/png\",\"width\":500,\"height\":281,\"size\":212.8,\"path\":null,\"url\":\"https://codewithharry.nyc3.cdn.digitaloceanspaces.com/assets/406fa0451668f7448dfbb0e9ab7d4f95.png\"}},\"provider\":\"do\",\"related\":[\"61d069b36ff03b00118e19cb\"],\"createdAt\":\"2022-01-18T18:53:23.018Z\",\"updatedAt\":\"2022-01-18T19:09:13.557Z\",\"__v\":0,\"id\":\"61e70ca3f8fae000115a0eb0\"}],\"_id\":\"61d069b36ff03b00118e19cb\",\"ytplaylistid\":\"PLu0W_9lII9ahwFDuExCpPFHAK829Wto2O\",\"title\":\"Tailwind Course In Hindi\",\"description\":\"Complete Tailwind CSS Course by CodeWithHarry in Hindi - Learn Tailwind CSS from scratch for free! \",\"firstSlug\":\"tailwind-course-in-hindi-1\",\"published_at\":\"2022-01-01T14:50:36.984Z\",\"createdAt\":\"2022-01-01T14:48:19.035Z\",\"updatedAt\":\"2022-01-18T19:09:13.563Z\",\"__v\":0,\"id\":\"61d069b36ff03b00118e19cb\"},{\"previewimg\":[{\"_id\":\"61f8316049dac1001207e5d1\",\"name\":\"CourseThumb.png\",\"alternativeText\":\"\",\"caption\":\"\",\"hash\":\"62f60049963012281edcc77dd2ec031b\",\"ext\":\".png\",\"mime\":\"image/png\",\"size\":2820.81,\"width\":2933,\"height\":1650,\"url\":\"https://codewithharry.nyc3.cdn.digitaloceanspaces.com/assets/62f60049963012281edcc77dd2ec031b.png\",\"formats\":{\"thumbnail\":{\"name\":\"thumbnail_CourseThumb.png\",\"hash\":\"66f6ae490e06c5e6d59e7e1dcc7910ed\",\"ext\":\".png\",\"mime\":\"image/png\",\"width\":245,\"height\":138,\"size\":74.13,\"path\":null,\"url\":\"https://codewithharry.nyc3.cdn.digitaloceanspaces.com/assets/66f6ae490e06c5e6d59e7e1dcc7910ed.png\"},\"large\":{\"name\":\"large_CourseThumb.png\",\"hash\":\"9165bfd6283ecf476b99403abcb541e0\",\"ext\":\".png\",\"mime\":\"image/png\",\"width\":1000,\"height\":563,\"size\":740.14,\"path\":null,\"url\":\"https://codewithharry.nyc3.cdn.digitaloceanspaces.com/assets/9165bfd6283ecf476b99403abcb541e0.png\"},\"medium\":{\"name\":\"medium_CourseThumb.png\",\"hash\":\"33f7fb46e969d318a97cdd8cf089e041\",\"ext\":\".png\",\"mime\":\"image/png\",\"width\":750,\"height\":422,\"size\":453.67,\"path\":null,\"url\":\"https://codewithharry.nyc3.cdn.digitaloceanspaces.com/assets/33f7fb46e969d318a97cdd8cf089e041.png\"},\"small\":{\"name\":\"small_CourseThumb.png\",\"hash\":\"7ea2ac243e2ed4891e89c05773b720e1\",\"ext\":\".png\",\"mime\":\"image/png\",\"width\":500,\"height\":281,\"size\":234.67,\"path\":null,\"url\":\"https://codewithharry.nyc3.cdn.digitaloceanspaces.com/assets/7ea2ac243e2ed4891e89c05773b720e1.png\"}},\"provider\":\"do\",\"related\":[\"61f82d0d49dac1001207e5cf\"],\"createdAt\":\"2022-01-31T18:58:40.885Z\",\"updatedAt\":\"2022-01-31T19:00:13.920Z\",\"__v\":0,\"id\":\"61f8316049dac1001207e5d1\"}],\"_id\":\"61f82d0d49dac1001207e5cf\",\"title\":\"Next.js Tutorials For Beginners\",\"ytplaylistid\":\"PLu0W_9lII9agtWvR_TZdb_r0dNI8-lDwG\",\"description\":\"Complete Next.js Course by CodeWithHarry in Hindi - Learn Next.js from Scratch.\",\"firstSlug\":\"nextjs-tutorial-in-hindi-1\",\"published_at\":\"2022-01-31T19:00:16.335Z\",\"createdAt\":\"2022-01-31T18:40:13.364Z\",\"updatedAt\":\"2022-01-31T19:00:16.356Z\",\"__v\":0,\"id\":\"61f82d0d49dac1001207e5cf\"},{\"previewimg\":[{\"_id\":\"61e70ca9347e2500114112a9\",\"name\":\"react.png\",\"alternativeText\":\"\",\"caption\":\"\",\"hash\":\"090fefe24d23d47584f6ddc7eb5a241e\",\"ext\":\".png\",\"mime\":\"image/png\",\"size\":931.17,\"width\":1280,\"height\":720,\"url\":\"https://codewithharry.nyc3.cdn.digitaloceanspaces.com/assets/090fefe24d23d47584f6ddc7eb5a241e.png\",\"formats\":{\"thumbnail\":{\"name\":\"thumbnail_react.png\",\"hash\":\"15a81ab0ce496c67d3cd9ad7fb0d909f\",\"ext\":\".png\",\"mime\":\"image/png\",\"width\":245,\"height\":138,\"size\":68.3,\"path\":null,\"url\":\"https://codewithharry.nyc3.cdn.digitaloceanspaces.com/assets/15a81ab0ce496c67d3cd9ad7fb0d909f.png\"},\"large\":{\"name\":\"large_react.png\",\"hash\":\"08506f77c46079f72b27ccd5673b5b9e\",\"ext\":\".png\",\"mime\":\"image/png\",\"width\":1000,\"height\":563,\"size\":807.14,\"path\":null,\"url\":\"https://codewithharry.nyc3.cdn.digitaloceanspaces.com/assets/08506f77c46079f72b27ccd5673b5b9e.png\"},\"medium\":{\"name\":\"medium_react.png\",\"hash\":\"2ab7229461042bc313a149bcda5a75e6\",\"ext\":\".png\",\"mime\":\"image/png\",\"width\":750,\"height\":422,\"size\":478.78,\"path\":null,\"url\":\"https://codewithharry.nyc3.cdn.digitaloceanspaces.com/assets/2ab7229461042bc313a149bcda5a75e6.png\"},\"small\":{\"name\":\"small_react.png\",\"hash\":\"5e0b3db5d79835893b9b2a370c35d35d\",\"ext\":\".png\",\"mime\":\"image/png\",\"width\":500,\"height\":281,\"size\":234.45,\"path\":null,\"url\":\"https://codewithharry.nyc3.cdn.digitaloceanspaces.com/assets/5e0b3db5d79835893b9b2a370c35d35d.png\"}},\"provider\":\"do\",\"related\":[\"61bf15cbb26eda2ecc384ca2\"],\"createdAt\":\"2022-01-18T18:53:29.898Z\",\"updatedAt\":\"2022-01-18T19:08:24.511Z\",\"__v\":0,\"id\":\"61e70ca9347e2500114112a9\"}],\"_id\":\"61bf15cbb26eda2ecc384ca2\",\"title\":\"React Js Tutorials For Beginners\",\"ytplaylistid\":\"PLu0W_9lII9agx66oZnT6IyhcMIbUMNMdt\",\"description\":\"React is a free and open-source front-end JavaScript library. This series will cover React from starting to the end. We will learn react from the ground up!\",\"firstSlug\":\"react-tutorials-in-hindi-1\",\"published_at\":\"2021-12-19T11:21:47.256Z\",\"createdAt\":\"2021-12-19T11:21:47.258Z\",\"updatedAt\":\"2022-01-18T19:08:24.516Z\",\"__v\":0,\"order\":1,\"id\":\"61bf15cbb26eda2ecc384ca2\"}]},\"__N_SSG\":true},\"page\":\"/\",\"query\":{},\"buildId\":\"9rAsIMEs_GxbF_g36jSpj\",\"isFallback\":false,\"gsp\":true,\"scriptLoader\":[]}</script></body></html>'\n"
          ]
        }
      ]
    },
    {
      "cell_type": "code",
      "source": [
        "soup = BeautifulSoup(htmlContent,'html.parser')"
      ],
      "metadata": {
        "id": "kZN555saxY1M"
      },
      "execution_count": null,
      "outputs": []
    },
    {
      "cell_type": "code",
      "source": [
        "print(soup.prettify)"
      ],
      "metadata": {
        "colab": {
          "base_uri": "https://localhost:8080/"
        },
        "id": "jU4lCx5byAnN",
        "outputId": "1d600105-72cc-4067-b338-8d8eba14dc22"
      },
      "execution_count": null,
      "outputs": [
        {
          "output_type": "stream",
          "name": "stdout",
          "text": [
            "<bound method Tag.prettify of <!DOCTYPE html>\n",
            "<html lang=\"en\"><head><meta content=\"width=device-width\" name=\"viewport\"/><meta charset=\"utf-8\"/><script async=\"\" crossorigin=\"anonymous\" src=\"https://pagead2.googlesyndication.com/pagead/js/adsbygoogle.js?client=ca-pub-9655830461045889\"></script><script>(function(w,d,s,l,i){w[l]=w[l]||[];w[l].push({'gtm.start':\n",
            "        new Date().getTime(),event:'gtm.js'});var f=d.getElementsByTagName(s)[0],\n",
            "        j=d.createElement(s),dl=l!='dataLayer'?'&l='+l:'';j.async=true;j.src=\n",
            "        'https://www.googletagmanager.com/gtm.js?id='+i+dl;f.parentNode.insertBefore(j,f);\n",
            "        })(window,document,'script','dataLayer','GTM-MCDDKRF');</script><title>Home | CodeWithHarry</title><meta content=\"Welcome to Code With Harry. Code With Harry is my attempt to teach basics and those coding techniques to people in short time which took me ages to learn.\" name=\"description\"/><link href=\"/favicon.ico\" rel=\"icon\"/><meta content=\"7\" name=\"next-head-count\"/><link as=\"style\" href=\"/_next/static/css/95fea26d92efb53e.css\" rel=\"preload\"/><link data-n-g=\"\" href=\"/_next/static/css/95fea26d92efb53e.css\" rel=\"stylesheet\"/><link as=\"style\" href=\"/_next/static/css/39f4d8aba4b66723.css\" rel=\"preload\"/><link data-n-p=\"\" href=\"/_next/static/css/39f4d8aba4b66723.css\" rel=\"stylesheet\"/><noscript data-n-css=\"\"></noscript><script defer=\"\" nomodule=\"\" src=\"/_next/static/chunks/polyfills-5cd94c89d3acac5f.js\"></script><script defer=\"\" src=\"/_next/static/chunks/webpack-cb79fe2bfb796200.js\"></script><script defer=\"\" src=\"/_next/static/chunks/framework-91d7f78b5b4003c8.js\"></script><script defer=\"\" src=\"/_next/static/chunks/main-728af1fb3715c9e8.js\"></script><script defer=\"\" src=\"/_next/static/chunks/pages/_app-7ccd4159d18b03be.js\"></script><script defer=\"\" src=\"/_next/static/chunks/pages/index-afddd706d45453a5.js\"></script><script defer=\"\" src=\"/_next/static/9rAsIMEs_GxbF_g36jSpj/_buildManifest.js\"></script><script defer=\"\" src=\"/_next/static/9rAsIMEs_GxbF_g36jSpj/_ssgManifest.js\"></script><script defer=\"\" src=\"/_next/static/9rAsIMEs_GxbF_g36jSpj/_middlewareManifest.js\"></script></head><body><noscript><iframe height=\"0\" src=\"https://www.googletagmanager.com/ns.html?id=GTM-MCDDKRF\" style=\"display:none;visibility:hidden\" width=\"0\"></iframe></noscript><div id=\"__next\"><div class=\" w-full z-10 sticky bg-white top-0 border-b border-grey-light\"><div class=\"w-full flex flex-wrap items-center lg:justify-between mt-0 py-4 justify-center\"><div class=\" mx-0 px-0 lg:pl-4 flex items-center lg:mx-4\"><span class=\"text-teal-700 no-underline hover:no-underline font-bold text-xl text-purple-800\"><a href=\"/\">CodeWithHarry</a></span></div><div class=\"pr-4 absolute top-1 right-1 pt-3\"><button class=\"lg:hidden flex items-center px-3 py-2 border rounded text-grey border-grey-dark hover:text-black hover:border-purple appearance-none focus:outline-none\"><svg class=\"fill-current h-3 w-3\" viewbox=\"0 0 20 20\" xmlns=\"http://www.w3.org/2000/svg\"><title>Menu</title><path d=\"M0 3h20v2H0V3zm0 6h20v2H0V9zm0 6h20v2H0v-2z\"></path></svg></button></div><div class=\"w-full flex-grow lg:flex lg:flex-1 lg:content-center lg:justify-end lg:w-auto h-0 lg:h-auto overflow-hidden mt-2 lg:mt-0 z-20 transition-all\" id=\"nav-content\"><ul class=\"flex items-center flex-col lg:flex-row\"><div class=\"search-icon cursor-pointer px-6 hidden\" id=\"search-toggle\"><svg class=\"fill-current pointer-events-none text-grey-darkest w-4 h-4 inline\" viewbox=\"0 0 20 20\" xmlns=\"http://www.w3.org/2000/svg\"><path d=\"M12.9 14.32a8 8 0 1 1 1.41-1.41l5.35 5.33-1.42 1.42-5.33-5.34zM8 14A6 6 0 1 0 8 2a6 6 0 0 0 0 12z\"></path></svg></div><li class=\"mx-2 my-2\"><a href=\"/\">Home</a></li><li class=\"mx-2 my-2\"><a href=\"/videos/\">Courses</a></li><li class=\"mx-2 my-2\"><a href=\"/blog/\">Blog</a></li><li class=\"mx-2 my-2\"><a href=\"/contact/\">Contact</a></li></ul><div class=\"text-center my-2 px-4\"><button class=\"text-white bg-purple-700 hover:bg-purple-800 focus:ring-4 focus:ring-purple-300 font-medium rounded-lg text-sm px-3 py-2 text-center inline-flex items-center mx-1\" id=\"login\">Login</button><button class=\"text-white bg-purple-700 hover:bg-purple-800 focus:ring-4 focus:ring-purple-300 font-medium rounded-lg text-sm px-3 py-2 text-center inline-flex items-center mx-1\" id=\"signup\">Signup</button></div></div></div></div><div class=\"relative w-full hidden bg-white shadow-xl\" id=\"search-content\"><div class=\"container mx-auto py-4 text-black\"><input autofocus=\"\" class=\"w-full text-grey-800 transition focus:outline-none focus:border-transparent p-2 appearance-none leading-normal text-xl lg:text-2xl\" id=\"searchfield\" placeholder=\"Search...\" type=\"search\"/></div></div><div class=\"mx-auto my-1\"></div><div class=\"\" style=\"position:fixed;top:0;left:0;height:2px;background:transparent;z-index:99999999999;width:100%\"><div class=\"\" style=\"height:100%;background:purple;transition:all 500ms ease;width:0%\"><div style=\"box-shadow:0 0 10px purple, 0 0 10px purple;width:5%;opacity:1;position:absolute;height:100%;transition:all 500ms ease;transform:rotate(3deg) translate(0px, -4px);left:-10rem\"></div></div></div><div class=\"Home_container__bCOhY\"><div class=\"flex bg-white h-96 container mx-auto\"><div class=\"flex items-center text-center lg:text-left px-8 md:px-12 lg:w-1/2\"><div><h2 class=\"text-3xl font-semibold text-gray-800 md:text-4xl\">Welcome to <span class=\"text-indigo-600\">CodeWithHarry</span></h2><p class=\"mt-2 text-sm text-gray-500 md:text-base\">Confused on which course to take? I have got you covered. Browse courses and find out the best course for you. Its free! Code With Harry is my attempt to teach basics and those coding techniques to people in short time which took me ages to learn.</p><div class=\"flex justify-center lg:justify-start mt-6\"><button class=\"px-3 py-2 lg:px-4 lg:py-3 bg-gray-900 text-gray-200 text-xs font-semibold rounded hover:bg-gray-800\">Free Courses</button><button class=\"px-3 py-2 mx-4 lg:px-4 lg:py-3 bg-gray-300 text-gray-900 text-xs font-semibold rounded hover:bg-gray-400\">Explore Blog</button></div></div></div><div class=\"hidden lg:block lg:w-1/2\" style=\"clip-path:polygon(10% 0, 100% 0%, 100% 100%, 0 100%)\"><div class=\"h-full object-cover\" style=\"background-image:url(https://images.unsplash.com/photo-1498050108023-c5249f4df085?ixlib=rb-1.2.1&amp;ixid=eyJhcHBfaWQiOjEyMDd9&amp;auto=format&amp;fit=crop&amp;w=1352&amp;q=80)\"><div class=\"h-full bg-black opacity-25\"></div></div></div></div><div class=\"container mx-auto lg:my-2\"><h2 class=\"text-3xl font-medium title-font text-gray-900 my-10 text-center\">Recommended Courses</h2><div class=\"flex flex-wrap\"><div class=\"lg:p-4 md:w-1/3 flex justify-center\"><div class=\"max-w-sm rounded-2xl overflow-hidden shadow-lg\"><img alt=\"Tailwind Course In Hindi\" class=\"w-full\" src=\"https://codewithharry.nyc3.cdn.digitaloceanspaces.com/assets/e1c843acc10c59c60504cd438a082c6d.png\"/><div class=\"px-6 py-4 lg:h-52\"><span class=\"tracking-widest text-xs title-font font-medium text-gray-400 mb-1\">Free Course</span><div class=\"title-font text-lg font-medium text-gray-900 mb-3\"><a href=\"/videos/tailwind-course-in-hindi-1/\">Tailwind Course In Hindi</a></div><p class=\"text-gray-700 text-base\">Complete Tailwind CSS Course by CodeWithHarry in Hindi - Learn Tailwind CSS from scratch for free! </p></div><div class=\"px-6 pt-4 pb-2\"><span class=\"inline-block bg-purple-800 rounded-full px-3 py-2 text-sm font-semibold text-white mr-2 mb-2 hover:bg-purple-600 cursor-pointer\"> Start Watching</span></div></div></div><div class=\"lg:p-4 md:w-1/3 flex justify-center\"><div class=\"max-w-sm rounded-2xl overflow-hidden shadow-lg\"><img alt=\"Next.js Tutorials For Beginners\" class=\"w-full\" src=\"https://codewithharry.nyc3.cdn.digitaloceanspaces.com/assets/62f60049963012281edcc77dd2ec031b.png\"/><div class=\"px-6 py-4 lg:h-52\"><span class=\"tracking-widest text-xs title-font font-medium text-gray-400 mb-1\">Free Course</span><div class=\"title-font text-lg font-medium text-gray-900 mb-3\"><a href=\"/videos/nextjs-tutorial-in-hindi-1/\">Next.js Tutorials For Beginners</a></div><p class=\"text-gray-700 text-base\">Complete Next.js Course by CodeWithHarry in Hindi - Learn Next.js from Scratch.</p></div><div class=\"px-6 pt-4 pb-2\"><span class=\"inline-block bg-purple-800 rounded-full px-3 py-2 text-sm font-semibold text-white mr-2 mb-2 hover:bg-purple-600 cursor-pointer\"> Start Watching</span></div></div></div><div class=\"lg:p-4 md:w-1/3 flex justify-center\"><div class=\"max-w-sm rounded-2xl overflow-hidden shadow-lg\"><img alt=\"React Js Tutorials For Beginners\" class=\"w-full\" src=\"https://codewithharry.nyc3.cdn.digitaloceanspaces.com/assets/090fefe24d23d47584f6ddc7eb5a241e.png\"/><div class=\"px-6 py-4 lg:h-52\"><span class=\"tracking-widest text-xs title-font font-medium text-gray-400 mb-1\">Free Course</span><div class=\"title-font text-lg font-medium text-gray-900 mb-3\"><a href=\"/videos/react-tutorials-in-hindi-1/\">React Js Tutorials For Beginners</a></div><p class=\"text-gray-700 text-base\">React is a free and open-source front-end JavaScript library. This series will cover React from starting to the end. We will learn react from the ground up!</p></div><div class=\"px-6 pt-4 pb-2\"><span class=\"inline-block bg-purple-800 rounded-full px-3 py-2 text-sm font-semibold text-white mr-2 mb-2 hover:bg-purple-600 cursor-pointer\"> Start Watching</span></div></div></div></div></div><div class=\"container mx-auto\"><section class=\"text-gray-600 body-font\"><div class=\"container px-5 py-12 mx-auto\"><h2 class=\"text-3xl font-medium title-font text-gray-900 mb-12 text-center\">Testimonials</h2><div class=\"flex flex-wrap -m-4\"><div class=\"p-4 md:w-1/2 w-full\"><div class=\"h-full bg-gray-100 p-8 rounded\"><svg class=\"block w-5 h-5 text-gray-400 mb-4\" fill=\"currentColor\" viewbox=\"0 0 975.036 975.036\" xmlns=\"http://www.w3.org/2000/svg\"><path d=\"M925.036 57.197h-304c-27.6 0-50 22.4-50 50v304c0 27.601 22.4 50 50 50h145.5c-1.9 79.601-20.4 143.3-55.4 191.2-27.6 37.8-69.399 69.1-125.3 93.8-25.7 11.3-36.8 41.7-24.8 67.101l36 76c11.6 24.399 40.3 35.1 65.1 24.399 66.2-28.6 122.101-64.8 167.7-108.8 55.601-53.7 93.7-114.3 114.3-181.9 20.601-67.6 30.9-159.8 30.9-276.8v-239c0-27.599-22.401-50-50-50zM106.036 913.497c65.4-28.5 121-64.699 166.9-108.6 56.1-53.7 94.4-114.1 115-181.2 20.6-67.1 30.899-159.6 30.899-277.5v-239c0-27.6-22.399-50-50-50h-304c-27.6 0-50 22.4-50 50v304c0 27.601 22.4 50 50 50h145.5c-1.9 79.601-20.4 143.3-55.4 191.2-27.6 37.8-69.4 69.1-125.3 93.8-25.7 11.3-36.8 41.7-24.8 67.101l35.9 75.8c11.601 24.399 40.501 35.2 65.301 24.399z\"></path></svg><p class=\"leading-relaxed mb-6\">I don't have words to thank this man, I'm really grateful to have this channel and website in my daily routine. If you're a mere beginner, then you can trust this guy and can put your time into his content. I can assure you that it'll be worth it.</p><span class=\"inline-flex items-center\"><span class=\"flex-grow flex flex-col pl-4\"><span class=\"title-font font-medium text-gray-900\">Mohit Kumar</span><span class=\"text-gray-500 text-sm\">Web Developer</span></span></span></div></div><div class=\"p-4 md:w-1/2 w-full\"><div class=\"h-full bg-gray-100 p-8 rounded\"><svg class=\"block w-5 h-5 text-gray-400 mb-4\" fill=\"currentColor\" viewbox=\"0 0 975.036 975.036\" xmlns=\"http://www.w3.org/2000/svg\"><path d=\"M925.036 57.197h-304c-27.6 0-50 22.4-50 50v304c0 27.601 22.4 50 50 50h145.5c-1.9 79.601-20.4 143.3-55.4 191.2-27.6 37.8-69.399 69.1-125.3 93.8-25.7 11.3-36.8 41.7-24.8 67.101l36 76c11.6 24.399 40.3 35.1 65.1 24.399 66.2-28.6 122.101-64.8 167.7-108.8 55.601-53.7 93.7-114.3 114.3-181.9 20.601-67.6 30.9-159.8 30.9-276.8v-239c0-27.599-22.401-50-50-50zM106.036 913.497c65.4-28.5 121-64.699 166.9-108.6 56.1-53.7 94.4-114.1 115-181.2 20.6-67.1 30.899-159.6 30.899-277.5v-239c0-27.6-22.399-50-50-50h-304c-27.6 0-50 22.4-50 50v304c0 27.601 22.4 50 50 50h145.5c-1.9 79.601-20.4 143.3-55.4 191.2-27.6 37.8-69.4 69.1-125.3 93.8-25.7 11.3-36.8 41.7-24.8 67.101l35.9 75.8c11.601 24.399 40.501 35.2 65.301 24.399z\"></path></svg><p class=\"leading-relaxed mb-6\">For everyone who wants to level up their #Coding and #Dev skills - seriously, this channel is for you! Both basic and advanced stacks are covered on this channel, and one can learn according to his skill levels. And the icing on the cake is, everything is available for free.</p><span class=\"inline-flex items-center\"><span class=\"flex-grow flex flex-col pl-4\"><span class=\"title-font font-medium text-gray-900\">Rakesh Shetty</span><span class=\"text-gray-500 text-sm\">Web Developer</span></span></span></div></div></div></div></section></div></div><div><footer class=\"text-gray-600 body-font mt-8 px-10 bg-white\"><div class=\"px-2 py-4 mx-auto flex items-center sm:flex-row flex-col\"><span class=\"flex title-font font-medium items-center md:justify-start justify-center text-gray-900\"><img class=\"rounded h-12\" src=\"/img/logo-blue.png\"/><span class=\"ml-3 text-xl\">CodeWithHarry</span></span><p class=\"text-sm text-gray-500 sm:ml-4 sm:pl-4 sm:border-l-2 sm:border-gray-200 sm:py-2 sm:mt-0 mt-4 text-center\">Copyright © 2022 CodeWithHarry.com</p><span class=\"inline-flex sm:ml-auto sm:mt-0 mt-4 justify-center sm:justify-start\"><a class=\"text-gray-500\" href=\"https://www.facebook.com/CodeWithHarry/\" rel=\"noreferrer\" target=\"_blank\"><svg class=\"w-5 h-5\" fill=\"currentColor\" stroke-linecap=\"round\" stroke-linejoin=\"round\" stroke-width=\"2\" viewbox=\"0 0 24 24\"><path d=\"M18 2h-3a5 5 0 00-5 5v3H7v4h3v8h4v-8h3l1-4h-4V7a1 1 0 011-1h3z\"></path></svg></a><a class=\"ml-3 text-gray-500\" href=\"https://www.instagram.com/CodeWithHarry/\" rel=\"noreferrer\" target=\"_blank\"><svg class=\"w-5 h-5\" fill=\"none\" stroke=\"currentColor\" stroke-linecap=\"round\" stroke-linejoin=\"round\" stroke-width=\"2\" viewbox=\"0 0 24 24\"><rect height=\"20\" rx=\"5\" ry=\"5\" width=\"20\" x=\"2\" y=\"2\"></rect><path d=\"M16 11.37A4 4 0 1112.63 8 4 4 0 0116 11.37zm1.5-4.87h.01\"></path></svg></a></span></div></footer></div></div><script id=\"__NEXT_DATA__\" type=\"application/json\">{\"props\":{\"pageProps\":{\"url\":\"https://cwh-apis-strapi-c39h9.ondigitalocean.app\",\"courses\":[{\"previewimg\":[{\"_id\":\"61e70ca3f8fae000115a0eb0\",\"name\":\"tailwind.png\",\"alternativeText\":\"\",\"caption\":\"\",\"hash\":\"e1c843acc10c59c60504cd438a082c6d\",\"ext\":\".png\",\"mime\":\"image/png\",\"size\":629.53,\"width\":1280,\"height\":720,\"url\":\"https://codewithharry.nyc3.cdn.digitaloceanspaces.com/assets/e1c843acc10c59c60504cd438a082c6d.png\",\"formats\":{\"thumbnail\":{\"name\":\"thumbnail_tailwind.png\",\"hash\":\"b7784c44bdbb1e7b8ece1317b0fdc76b\",\"ext\":\".png\",\"mime\":\"image/png\",\"width\":245,\"height\":138,\"size\":64.67,\"path\":null,\"url\":\"https://codewithharry.nyc3.cdn.digitaloceanspaces.com/assets/b7784c44bdbb1e7b8ece1317b0fdc76b.png\"},\"large\":{\"name\":\"large_tailwind.png\",\"hash\":\"74e0ceaabaf311cd95b57023a9b2fe22\",\"ext\":\".png\",\"mime\":\"image/png\",\"width\":1000,\"height\":563,\"size\":694.47,\"path\":null,\"url\":\"https://codewithharry.nyc3.cdn.digitaloceanspaces.com/assets/74e0ceaabaf311cd95b57023a9b2fe22.png\"},\"medium\":{\"name\":\"medium_tailwind.png\",\"hash\":\"92680d2b9cf6eb586b0a84f851d0de74\",\"ext\":\".png\",\"mime\":\"image/png\",\"width\":750,\"height\":422,\"size\":425.65,\"path\":null,\"url\":\"https://codewithharry.nyc3.cdn.digitaloceanspaces.com/assets/92680d2b9cf6eb586b0a84f851d0de74.png\"},\"small\":{\"name\":\"small_tailwind.png\",\"hash\":\"406fa0451668f7448dfbb0e9ab7d4f95\",\"ext\":\".png\",\"mime\":\"image/png\",\"width\":500,\"height\":281,\"size\":212.8,\"path\":null,\"url\":\"https://codewithharry.nyc3.cdn.digitaloceanspaces.com/assets/406fa0451668f7448dfbb0e9ab7d4f95.png\"}},\"provider\":\"do\",\"related\":[\"61d069b36ff03b00118e19cb\"],\"createdAt\":\"2022-01-18T18:53:23.018Z\",\"updatedAt\":\"2022-01-18T19:09:13.557Z\",\"__v\":0,\"id\":\"61e70ca3f8fae000115a0eb0\"}],\"_id\":\"61d069b36ff03b00118e19cb\",\"ytplaylistid\":\"PLu0W_9lII9ahwFDuExCpPFHAK829Wto2O\",\"title\":\"Tailwind Course In Hindi\",\"description\":\"Complete Tailwind CSS Course by CodeWithHarry in Hindi - Learn Tailwind CSS from scratch for free! \",\"firstSlug\":\"tailwind-course-in-hindi-1\",\"published_at\":\"2022-01-01T14:50:36.984Z\",\"createdAt\":\"2022-01-01T14:48:19.035Z\",\"updatedAt\":\"2022-01-18T19:09:13.563Z\",\"__v\":0,\"id\":\"61d069b36ff03b00118e19cb\"},{\"previewimg\":[{\"_id\":\"61f8316049dac1001207e5d1\",\"name\":\"CourseThumb.png\",\"alternativeText\":\"\",\"caption\":\"\",\"hash\":\"62f60049963012281edcc77dd2ec031b\",\"ext\":\".png\",\"mime\":\"image/png\",\"size\":2820.81,\"width\":2933,\"height\":1650,\"url\":\"https://codewithharry.nyc3.cdn.digitaloceanspaces.com/assets/62f60049963012281edcc77dd2ec031b.png\",\"formats\":{\"thumbnail\":{\"name\":\"thumbnail_CourseThumb.png\",\"hash\":\"66f6ae490e06c5e6d59e7e1dcc7910ed\",\"ext\":\".png\",\"mime\":\"image/png\",\"width\":245,\"height\":138,\"size\":74.13,\"path\":null,\"url\":\"https://codewithharry.nyc3.cdn.digitaloceanspaces.com/assets/66f6ae490e06c5e6d59e7e1dcc7910ed.png\"},\"large\":{\"name\":\"large_CourseThumb.png\",\"hash\":\"9165bfd6283ecf476b99403abcb541e0\",\"ext\":\".png\",\"mime\":\"image/png\",\"width\":1000,\"height\":563,\"size\":740.14,\"path\":null,\"url\":\"https://codewithharry.nyc3.cdn.digitaloceanspaces.com/assets/9165bfd6283ecf476b99403abcb541e0.png\"},\"medium\":{\"name\":\"medium_CourseThumb.png\",\"hash\":\"33f7fb46e969d318a97cdd8cf089e041\",\"ext\":\".png\",\"mime\":\"image/png\",\"width\":750,\"height\":422,\"size\":453.67,\"path\":null,\"url\":\"https://codewithharry.nyc3.cdn.digitaloceanspaces.com/assets/33f7fb46e969d318a97cdd8cf089e041.png\"},\"small\":{\"name\":\"small_CourseThumb.png\",\"hash\":\"7ea2ac243e2ed4891e89c05773b720e1\",\"ext\":\".png\",\"mime\":\"image/png\",\"width\":500,\"height\":281,\"size\":234.67,\"path\":null,\"url\":\"https://codewithharry.nyc3.cdn.digitaloceanspaces.com/assets/7ea2ac243e2ed4891e89c05773b720e1.png\"}},\"provider\":\"do\",\"related\":[\"61f82d0d49dac1001207e5cf\"],\"createdAt\":\"2022-01-31T18:58:40.885Z\",\"updatedAt\":\"2022-01-31T19:00:13.920Z\",\"__v\":0,\"id\":\"61f8316049dac1001207e5d1\"}],\"_id\":\"61f82d0d49dac1001207e5cf\",\"title\":\"Next.js Tutorials For Beginners\",\"ytplaylistid\":\"PLu0W_9lII9agtWvR_TZdb_r0dNI8-lDwG\",\"description\":\"Complete Next.js Course by CodeWithHarry in Hindi - Learn Next.js from Scratch.\",\"firstSlug\":\"nextjs-tutorial-in-hindi-1\",\"published_at\":\"2022-01-31T19:00:16.335Z\",\"createdAt\":\"2022-01-31T18:40:13.364Z\",\"updatedAt\":\"2022-01-31T19:00:16.356Z\",\"__v\":0,\"id\":\"61f82d0d49dac1001207e5cf\"},{\"previewimg\":[{\"_id\":\"61e70ca9347e2500114112a9\",\"name\":\"react.png\",\"alternativeText\":\"\",\"caption\":\"\",\"hash\":\"090fefe24d23d47584f6ddc7eb5a241e\",\"ext\":\".png\",\"mime\":\"image/png\",\"size\":931.17,\"width\":1280,\"height\":720,\"url\":\"https://codewithharry.nyc3.cdn.digitaloceanspaces.com/assets/090fefe24d23d47584f6ddc7eb5a241e.png\",\"formats\":{\"thumbnail\":{\"name\":\"thumbnail_react.png\",\"hash\":\"15a81ab0ce496c67d3cd9ad7fb0d909f\",\"ext\":\".png\",\"mime\":\"image/png\",\"width\":245,\"height\":138,\"size\":68.3,\"path\":null,\"url\":\"https://codewithharry.nyc3.cdn.digitaloceanspaces.com/assets/15a81ab0ce496c67d3cd9ad7fb0d909f.png\"},\"large\":{\"name\":\"large_react.png\",\"hash\":\"08506f77c46079f72b27ccd5673b5b9e\",\"ext\":\".png\",\"mime\":\"image/png\",\"width\":1000,\"height\":563,\"size\":807.14,\"path\":null,\"url\":\"https://codewithharry.nyc3.cdn.digitaloceanspaces.com/assets/08506f77c46079f72b27ccd5673b5b9e.png\"},\"medium\":{\"name\":\"medium_react.png\",\"hash\":\"2ab7229461042bc313a149bcda5a75e6\",\"ext\":\".png\",\"mime\":\"image/png\",\"width\":750,\"height\":422,\"size\":478.78,\"path\":null,\"url\":\"https://codewithharry.nyc3.cdn.digitaloceanspaces.com/assets/2ab7229461042bc313a149bcda5a75e6.png\"},\"small\":{\"name\":\"small_react.png\",\"hash\":\"5e0b3db5d79835893b9b2a370c35d35d\",\"ext\":\".png\",\"mime\":\"image/png\",\"width\":500,\"height\":281,\"size\":234.45,\"path\":null,\"url\":\"https://codewithharry.nyc3.cdn.digitaloceanspaces.com/assets/5e0b3db5d79835893b9b2a370c35d35d.png\"}},\"provider\":\"do\",\"related\":[\"61bf15cbb26eda2ecc384ca2\"],\"createdAt\":\"2022-01-18T18:53:29.898Z\",\"updatedAt\":\"2022-01-18T19:08:24.511Z\",\"__v\":0,\"id\":\"61e70ca9347e2500114112a9\"}],\"_id\":\"61bf15cbb26eda2ecc384ca2\",\"title\":\"React Js Tutorials For Beginners\",\"ytplaylistid\":\"PLu0W_9lII9agx66oZnT6IyhcMIbUMNMdt\",\"description\":\"React is a free and open-source front-end JavaScript library. This series will cover React from starting to the end. We will learn react from the ground up!\",\"firstSlug\":\"react-tutorials-in-hindi-1\",\"published_at\":\"2021-12-19T11:21:47.256Z\",\"createdAt\":\"2021-12-19T11:21:47.258Z\",\"updatedAt\":\"2022-01-18T19:08:24.516Z\",\"__v\":0,\"order\":1,\"id\":\"61bf15cbb26eda2ecc384ca2\"}]},\"__N_SSG\":true},\"page\":\"/\",\"query\":{},\"buildId\":\"9rAsIMEs_GxbF_g36jSpj\",\"isFallback\":false,\"gsp\":true,\"scriptLoader\":[]}</script></body></html>>\n"
          ]
        }
      ]
    },
    {
      "cell_type": "code",
      "source": [
        "title=soup.title"
      ],
      "metadata": {
        "id": "BFigU3aNyalN"
      },
      "execution_count": null,
      "outputs": []
    },
    {
      "cell_type": "code",
      "source": [
        "print(title)"
      ],
      "metadata": {
        "colab": {
          "base_uri": "https://localhost:8080/"
        },
        "id": "B_dGGWx1y-Nw",
        "outputId": "2faea324-6bfe-4c3a-bd65-b1bf782c63d7"
      },
      "execution_count": null,
      "outputs": [
        {
          "output_type": "stream",
          "name": "stdout",
          "text": [
            "<title>Home | CodeWithHarry</title>\n"
          ]
        }
      ]
    },
    {
      "cell_type": "code",
      "source": [
        "print(type(title))"
      ],
      "metadata": {
        "colab": {
          "base_uri": "https://localhost:8080/"
        },
        "id": "8bgKAAKBzAJh",
        "outputId": "a4e016db-85a6-4cd4-d362-181f3407ead3"
      },
      "execution_count": null,
      "outputs": [
        {
          "output_type": "stream",
          "name": "stdout",
          "text": [
            "<class 'bs4.element.Tag'>\n"
          ]
        }
      ]
    },
    {
      "cell_type": "code",
      "source": [
        "print(type(title.string))"
      ],
      "metadata": {
        "colab": {
          "base_uri": "https://localhost:8080/"
        },
        "id": "Lugq5D3NzFDH",
        "outputId": "24f70c91-967f-463b-a142-cad70ef78e95"
      },
      "execution_count": null,
      "outputs": [
        {
          "output_type": "stream",
          "name": "stdout",
          "text": [
            "<class 'bs4.element.NavigableString'>\n"
          ]
        }
      ]
    },
    {
      "cell_type": "code",
      "source": [
        "print(type(soup))"
      ],
      "metadata": {
        "colab": {
          "base_uri": "https://localhost:8080/"
        },
        "id": "zaoCpnWlzJZz",
        "outputId": "9b3f455f-d3ba-4d24-849f-1eb9fd4aabf1"
      },
      "execution_count": null,
      "outputs": [
        {
          "output_type": "stream",
          "name": "stdout",
          "text": [
            "<class 'bs4.BeautifulSoup'>\n"
          ]
        }
      ]
    },
    {
      "cell_type": "code",
      "source": [
        "paras=soup.find_all('p')"
      ],
      "metadata": {
        "id": "JD4gvzb8zdFC"
      },
      "execution_count": null,
      "outputs": []
    },
    {
      "cell_type": "code",
      "source": [
        "print(paras)"
      ],
      "metadata": {
        "colab": {
          "base_uri": "https://localhost:8080/"
        },
        "id": "W43_awSLz_Uo",
        "outputId": "2844ca0c-ca12-4384-bf80-7876a41dccd9"
      },
      "execution_count": null,
      "outputs": [
        {
          "output_type": "stream",
          "name": "stdout",
          "text": [
            "[<p class=\"mt-2 text-sm text-gray-500 md:text-base\">Confused on which course to take? I have got you covered. Browse courses and find out the best course for you. Its free! Code With Harry is my attempt to teach basics and those coding techniques to people in short time which took me ages to learn.</p>, <p class=\"text-gray-700 text-base\">Complete Tailwind CSS Course by CodeWithHarry in Hindi - Learn Tailwind CSS from scratch for free! </p>, <p class=\"text-gray-700 text-base\">Complete Next.js Course by CodeWithHarry in Hindi - Learn Next.js from Scratch.</p>, <p class=\"text-gray-700 text-base\">React is a free and open-source front-end JavaScript library. This series will cover React from starting to the end. We will learn react from the ground up!</p>, <p class=\"leading-relaxed mb-6\">I don't have words to thank this man, I'm really grateful to have this channel and website in my daily routine. If you're a mere beginner, then you can trust this guy and can put your time into his content. I can assure you that it'll be worth it.</p>, <p class=\"leading-relaxed mb-6\">For everyone who wants to level up their #Coding and #Dev skills - seriously, this channel is for you! Both basic and advanced stacks are covered on this channel, and one can learn according to his skill levels. And the icing on the cake is, everything is available for free.</p>, <p class=\"text-sm text-gray-500 sm:ml-4 sm:pl-4 sm:border-l-2 sm:border-gray-200 sm:py-2 sm:mt-0 mt-4 text-center\">Copyright © 2022 CodeWithHarry.com</p>]\n"
          ]
        }
      ]
    },
    {
      "cell_type": "code",
      "source": [
        "an=soup.find_all('a')\n",
        "print(an)"
      ],
      "metadata": {
        "colab": {
          "base_uri": "https://localhost:8080/"
        },
        "id": "YTjOK__X0BXH",
        "outputId": "de99fcce-19b5-43c6-a9c7-02eea9a039e1"
      },
      "execution_count": null,
      "outputs": [
        {
          "output_type": "stream",
          "name": "stdout",
          "text": [
            "[<a href=\"/\">CodeWithHarry</a>, <a href=\"/\">Home</a>, <a href=\"/videos/\">Courses</a>, <a href=\"/blog/\">Blog</a>, <a href=\"/contact/\">Contact</a>, <a href=\"/videos/tailwind-course-in-hindi-1/\">Tailwind Course In Hindi</a>, <a href=\"/videos/nextjs-tutorial-in-hindi-1/\">Next.js Tutorials For Beginners</a>, <a href=\"/videos/react-tutorials-in-hindi-1/\">React Js Tutorials For Beginners</a>, <a class=\"text-gray-500\" href=\"https://www.facebook.com/CodeWithHarry/\" rel=\"noreferrer\" target=\"_blank\"><svg class=\"w-5 h-5\" fill=\"currentColor\" stroke-linecap=\"round\" stroke-linejoin=\"round\" stroke-width=\"2\" viewbox=\"0 0 24 24\"><path d=\"M18 2h-3a5 5 0 00-5 5v3H7v4h3v8h4v-8h3l1-4h-4V7a1 1 0 011-1h3z\"></path></svg></a>, <a class=\"ml-3 text-gray-500\" href=\"https://www.instagram.com/CodeWithHarry/\" rel=\"noreferrer\" target=\"_blank\"><svg class=\"w-5 h-5\" fill=\"none\" stroke=\"currentColor\" stroke-linecap=\"round\" stroke-linejoin=\"round\" stroke-width=\"2\" viewbox=\"0 0 24 24\"><rect height=\"20\" rx=\"5\" ry=\"5\" width=\"20\" x=\"2\" y=\"2\"></rect><path d=\"M16 11.37A4 4 0 1112.63 8 4 4 0 0116 11.37zm1.5-4.87h.01\"></path></svg></a>]\n"
          ]
        }
      ]
    },
    {
      "cell_type": "code",
      "source": [
        "#get first element\n",
        "print(soup.find('p'))"
      ],
      "metadata": {
        "colab": {
          "base_uri": "https://localhost:8080/"
        },
        "id": "mnCirueq0cuu",
        "outputId": "07bc85bf-d363-40b3-bb42-2ee30a2d9efe"
      },
      "execution_count": null,
      "outputs": [
        {
          "output_type": "stream",
          "name": "stdout",
          "text": [
            "<p class=\"mt-2 text-sm text-gray-500 md:text-base\">Confused on which course to take? I have got you covered. Browse courses and find out the best course for you. Its free! Code With Harry is my attempt to teach basics and those coding techniques to people in short time which took me ages to learn.</p>\n"
          ]
        }
      ]
    },
    {
      "cell_type": "code",
      "source": [
        "print(soup.find('p')['class'])#get classes of any element in HTML page "
      ],
      "metadata": {
        "colab": {
          "base_uri": "https://localhost:8080/"
        },
        "id": "PXB6ymE60KwL",
        "outputId": "0f20e690-52d0-43fa-f9b7-882981a1396e"
      },
      "execution_count": null,
      "outputs": [
        {
          "output_type": "stream",
          "name": "stdout",
          "text": [
            "['mt-2', 'text-sm', 'text-gray-500', 'md:text-base']\n"
          ]
        }
      ]
    },
    {
      "cell_type": "code",
      "source": [
        "print(soup.find_all('p',class_='lead'))"
      ],
      "metadata": {
        "colab": {
          "base_uri": "https://localhost:8080/"
        },
        "id": "cdKYF_KT0YWZ",
        "outputId": "56ee8ea9-d1dd-45b8-dc8b-34e2d61c58d3"
      },
      "execution_count": null,
      "outputs": [
        {
          "output_type": "stream",
          "name": "stdout",
          "text": [
            "[]\n"
          ]
        }
      ]
    },
    {
      "cell_type": "code",
      "source": [
        "print(soup.find('p').get_text())"
      ],
      "metadata": {
        "colab": {
          "base_uri": "https://localhost:8080/"
        },
        "id": "h_CiMSM600xS",
        "outputId": "00901830-ed3d-4b64-f137-fb9b8660a7ea"
      },
      "execution_count": null,
      "outputs": [
        {
          "output_type": "stream",
          "name": "stdout",
          "text": [
            "Confused on which course to take? I have got you covered. Browse courses and find out the best course for you. Its free! Code With Harry is my attempt to teach basics and those coding techniques to people in short time which took me ages to learn.\n"
          ]
        }
      ]
    },
    {
      "cell_type": "code",
      "source": [
        "print(soup.get_text())"
      ],
      "metadata": {
        "colab": {
          "base_uri": "https://localhost:8080/"
        },
        "id": "lcbinZ_m0-bf",
        "outputId": "6a23b78b-2159-4cc1-a3a0-b94d36a1e786"
      },
      "execution_count": null,
      "outputs": [
        {
          "output_type": "stream",
          "name": "stdout",
          "text": [
            "(function(w,d,s,l,i){w[l]=w[l]||[];w[l].push({'gtm.start':\n",
            "        new Date().getTime(),event:'gtm.js'});var f=d.getElementsByTagName(s)[0],\n",
            "        j=d.createElement(s),dl=l!='dataLayer'?'&l='+l:'';j.async=true;j.src=\n",
            "        'https://www.googletagmanager.com/gtm.js?id='+i+dl;f.parentNode.insertBefore(j,f);\n",
            "        })(window,document,'script','dataLayer','GTM-MCDDKRF');Home | CodeWithHarryCodeWithHarryMenuHomeCoursesBlogContactLoginSignupWelcome to CodeWithHarryConfused on which course to take? I have got you covered. Browse courses and find out the best course for you. Its free! Code With Harry is my attempt to teach basics and those coding techniques to people in short time which took me ages to learn.Free CoursesExplore BlogRecommended CoursesFree CourseTailwind Course In HindiComplete Tailwind CSS Course by CodeWithHarry in Hindi - Learn Tailwind CSS from scratch for free!  Start WatchingFree CourseNext.js Tutorials For BeginnersComplete Next.js Course by CodeWithHarry in Hindi - Learn Next.js from Scratch. Start WatchingFree CourseReact Js Tutorials For BeginnersReact is a free and open-source front-end JavaScript library. This series will cover React from starting to the end. We will learn react from the ground up! Start WatchingTestimonialsI don't have words to thank this man, I'm really grateful to have this channel and website in my daily routine. If you're a mere beginner, then you can trust this guy and can put your time into his content. I can assure you that it'll be worth it.Mohit KumarWeb DeveloperFor everyone who wants to level up their #Coding and #Dev skills - seriously, this channel is for you! Both basic and advanced stacks are covered on this channel, and one can learn according to his skill levels. And the icing on the cake is, everything is available for free.Rakesh ShettyWeb DeveloperCodeWithHarryCopyright © 2022 CodeWithHarry.com{\"props\":{\"pageProps\":{\"url\":\"https://cwh-apis-strapi-c39h9.ondigitalocean.app\",\"courses\":[{\"previewimg\":[{\"_id\":\"61e70ca3f8fae000115a0eb0\",\"name\":\"tailwind.png\",\"alternativeText\":\"\",\"caption\":\"\",\"hash\":\"e1c843acc10c59c60504cd438a082c6d\",\"ext\":\".png\",\"mime\":\"image/png\",\"size\":629.53,\"width\":1280,\"height\":720,\"url\":\"https://codewithharry.nyc3.cdn.digitaloceanspaces.com/assets/e1c843acc10c59c60504cd438a082c6d.png\",\"formats\":{\"thumbnail\":{\"name\":\"thumbnail_tailwind.png\",\"hash\":\"b7784c44bdbb1e7b8ece1317b0fdc76b\",\"ext\":\".png\",\"mime\":\"image/png\",\"width\":245,\"height\":138,\"size\":64.67,\"path\":null,\"url\":\"https://codewithharry.nyc3.cdn.digitaloceanspaces.com/assets/b7784c44bdbb1e7b8ece1317b0fdc76b.png\"},\"large\":{\"name\":\"large_tailwind.png\",\"hash\":\"74e0ceaabaf311cd95b57023a9b2fe22\",\"ext\":\".png\",\"mime\":\"image/png\",\"width\":1000,\"height\":563,\"size\":694.47,\"path\":null,\"url\":\"https://codewithharry.nyc3.cdn.digitaloceanspaces.com/assets/74e0ceaabaf311cd95b57023a9b2fe22.png\"},\"medium\":{\"name\":\"medium_tailwind.png\",\"hash\":\"92680d2b9cf6eb586b0a84f851d0de74\",\"ext\":\".png\",\"mime\":\"image/png\",\"width\":750,\"height\":422,\"size\":425.65,\"path\":null,\"url\":\"https://codewithharry.nyc3.cdn.digitaloceanspaces.com/assets/92680d2b9cf6eb586b0a84f851d0de74.png\"},\"small\":{\"name\":\"small_tailwind.png\",\"hash\":\"406fa0451668f7448dfbb0e9ab7d4f95\",\"ext\":\".png\",\"mime\":\"image/png\",\"width\":500,\"height\":281,\"size\":212.8,\"path\":null,\"url\":\"https://codewithharry.nyc3.cdn.digitaloceanspaces.com/assets/406fa0451668f7448dfbb0e9ab7d4f95.png\"}},\"provider\":\"do\",\"related\":[\"61d069b36ff03b00118e19cb\"],\"createdAt\":\"2022-01-18T18:53:23.018Z\",\"updatedAt\":\"2022-01-18T19:09:13.557Z\",\"__v\":0,\"id\":\"61e70ca3f8fae000115a0eb0\"}],\"_id\":\"61d069b36ff03b00118e19cb\",\"ytplaylistid\":\"PLu0W_9lII9ahwFDuExCpPFHAK829Wto2O\",\"title\":\"Tailwind Course In Hindi\",\"description\":\"Complete Tailwind CSS Course by CodeWithHarry in Hindi - Learn Tailwind CSS from scratch for free! \",\"firstSlug\":\"tailwind-course-in-hindi-1\",\"published_at\":\"2022-01-01T14:50:36.984Z\",\"createdAt\":\"2022-01-01T14:48:19.035Z\",\"updatedAt\":\"2022-01-18T19:09:13.563Z\",\"__v\":0,\"id\":\"61d069b36ff03b00118e19cb\"},{\"previewimg\":[{\"_id\":\"61f8316049dac1001207e5d1\",\"name\":\"CourseThumb.png\",\"alternativeText\":\"\",\"caption\":\"\",\"hash\":\"62f60049963012281edcc77dd2ec031b\",\"ext\":\".png\",\"mime\":\"image/png\",\"size\":2820.81,\"width\":2933,\"height\":1650,\"url\":\"https://codewithharry.nyc3.cdn.digitaloceanspaces.com/assets/62f60049963012281edcc77dd2ec031b.png\",\"formats\":{\"thumbnail\":{\"name\":\"thumbnail_CourseThumb.png\",\"hash\":\"66f6ae490e06c5e6d59e7e1dcc7910ed\",\"ext\":\".png\",\"mime\":\"image/png\",\"width\":245,\"height\":138,\"size\":74.13,\"path\":null,\"url\":\"https://codewithharry.nyc3.cdn.digitaloceanspaces.com/assets/66f6ae490e06c5e6d59e7e1dcc7910ed.png\"},\"large\":{\"name\":\"large_CourseThumb.png\",\"hash\":\"9165bfd6283ecf476b99403abcb541e0\",\"ext\":\".png\",\"mime\":\"image/png\",\"width\":1000,\"height\":563,\"size\":740.14,\"path\":null,\"url\":\"https://codewithharry.nyc3.cdn.digitaloceanspaces.com/assets/9165bfd6283ecf476b99403abcb541e0.png\"},\"medium\":{\"name\":\"medium_CourseThumb.png\",\"hash\":\"33f7fb46e969d318a97cdd8cf089e041\",\"ext\":\".png\",\"mime\":\"image/png\",\"width\":750,\"height\":422,\"size\":453.67,\"path\":null,\"url\":\"https://codewithharry.nyc3.cdn.digitaloceanspaces.com/assets/33f7fb46e969d318a97cdd8cf089e041.png\"},\"small\":{\"name\":\"small_CourseThumb.png\",\"hash\":\"7ea2ac243e2ed4891e89c05773b720e1\",\"ext\":\".png\",\"mime\":\"image/png\",\"width\":500,\"height\":281,\"size\":234.67,\"path\":null,\"url\":\"https://codewithharry.nyc3.cdn.digitaloceanspaces.com/assets/7ea2ac243e2ed4891e89c05773b720e1.png\"}},\"provider\":\"do\",\"related\":[\"61f82d0d49dac1001207e5cf\"],\"createdAt\":\"2022-01-31T18:58:40.885Z\",\"updatedAt\":\"2022-01-31T19:00:13.920Z\",\"__v\":0,\"id\":\"61f8316049dac1001207e5d1\"}],\"_id\":\"61f82d0d49dac1001207e5cf\",\"title\":\"Next.js Tutorials For Beginners\",\"ytplaylistid\":\"PLu0W_9lII9agtWvR_TZdb_r0dNI8-lDwG\",\"description\":\"Complete Next.js Course by CodeWithHarry in Hindi - Learn Next.js from Scratch.\",\"firstSlug\":\"nextjs-tutorial-in-hindi-1\",\"published_at\":\"2022-01-31T19:00:16.335Z\",\"createdAt\":\"2022-01-31T18:40:13.364Z\",\"updatedAt\":\"2022-01-31T19:00:16.356Z\",\"__v\":0,\"id\":\"61f82d0d49dac1001207e5cf\"},{\"previewimg\":[{\"_id\":\"61e70ca9347e2500114112a9\",\"name\":\"react.png\",\"alternativeText\":\"\",\"caption\":\"\",\"hash\":\"090fefe24d23d47584f6ddc7eb5a241e\",\"ext\":\".png\",\"mime\":\"image/png\",\"size\":931.17,\"width\":1280,\"height\":720,\"url\":\"https://codewithharry.nyc3.cdn.digitaloceanspaces.com/assets/090fefe24d23d47584f6ddc7eb5a241e.png\",\"formats\":{\"thumbnail\":{\"name\":\"thumbnail_react.png\",\"hash\":\"15a81ab0ce496c67d3cd9ad7fb0d909f\",\"ext\":\".png\",\"mime\":\"image/png\",\"width\":245,\"height\":138,\"size\":68.3,\"path\":null,\"url\":\"https://codewithharry.nyc3.cdn.digitaloceanspaces.com/assets/15a81ab0ce496c67d3cd9ad7fb0d909f.png\"},\"large\":{\"name\":\"large_react.png\",\"hash\":\"08506f77c46079f72b27ccd5673b5b9e\",\"ext\":\".png\",\"mime\":\"image/png\",\"width\":1000,\"height\":563,\"size\":807.14,\"path\":null,\"url\":\"https://codewithharry.nyc3.cdn.digitaloceanspaces.com/assets/08506f77c46079f72b27ccd5673b5b9e.png\"},\"medium\":{\"name\":\"medium_react.png\",\"hash\":\"2ab7229461042bc313a149bcda5a75e6\",\"ext\":\".png\",\"mime\":\"image/png\",\"width\":750,\"height\":422,\"size\":478.78,\"path\":null,\"url\":\"https://codewithharry.nyc3.cdn.digitaloceanspaces.com/assets/2ab7229461042bc313a149bcda5a75e6.png\"},\"small\":{\"name\":\"small_react.png\",\"hash\":\"5e0b3db5d79835893b9b2a370c35d35d\",\"ext\":\".png\",\"mime\":\"image/png\",\"width\":500,\"height\":281,\"size\":234.45,\"path\":null,\"url\":\"https://codewithharry.nyc3.cdn.digitaloceanspaces.com/assets/5e0b3db5d79835893b9b2a370c35d35d.png\"}},\"provider\":\"do\",\"related\":[\"61bf15cbb26eda2ecc384ca2\"],\"createdAt\":\"2022-01-18T18:53:29.898Z\",\"updatedAt\":\"2022-01-18T19:08:24.511Z\",\"__v\":0,\"id\":\"61e70ca9347e2500114112a9\"}],\"_id\":\"61bf15cbb26eda2ecc384ca2\",\"title\":\"React Js Tutorials For Beginners\",\"ytplaylistid\":\"PLu0W_9lII9agx66oZnT6IyhcMIbUMNMdt\",\"description\":\"React is a free and open-source front-end JavaScript library. This series will cover React from starting to the end. We will learn react from the ground up!\",\"firstSlug\":\"react-tutorials-in-hindi-1\",\"published_at\":\"2021-12-19T11:21:47.256Z\",\"createdAt\":\"2021-12-19T11:21:47.258Z\",\"updatedAt\":\"2022-01-18T19:08:24.516Z\",\"__v\":0,\"order\":1,\"id\":\"61bf15cbb26eda2ecc384ca2\"}]},\"__N_SSG\":true},\"page\":\"/\",\"query\":{},\"buildId\":\"9rAsIMEs_GxbF_g36jSpj\",\"isFallback\":false,\"gsp\":true,\"scriptLoader\":[]}\n"
          ]
        }
      ]
    },
    {
      "cell_type": "code",
      "source": [
        "all_links= set()"
      ],
      "metadata": {
        "id": "BICmez1k1a9b"
      },
      "execution_count": null,
      "outputs": []
    },
    {
      "cell_type": "code",
      "source": [
        "#get all th links of the page\n",
        "for link in an:\n",
        "  if(link.get('href') !='#'):\n",
        "    linkText = \"https://www.codewithharry.com\"+ link.get('href')\n",
        "    all_links.add(link)\n",
        "    print(linkText)"
      ],
      "metadata": {
        "colab": {
          "base_uri": "https://localhost:8080/"
        },
        "id": "GtpGWb9I1EbJ",
        "outputId": "8c394651-40ec-4993-f935-e44ded7b3eac"
      },
      "execution_count": null,
      "outputs": [
        {
          "output_type": "stream",
          "name": "stdout",
          "text": [
            "https://www.codewithharry.com/\n",
            "https://www.codewithharry.com/\n",
            "https://www.codewithharry.com/videos/\n",
            "https://www.codewithharry.com/blog/\n",
            "https://www.codewithharry.com/contact/\n",
            "https://www.codewithharry.com/videos/tailwind-course-in-hindi-1/\n",
            "https://www.codewithharry.com/videos/nextjs-tutorial-in-hindi-1/\n",
            "https://www.codewithharry.com/videos/react-tutorials-in-hindi-1/\n",
            "https://www.codewithharry.comhttps://www.facebook.com/CodeWithHarry/\n",
            "https://www.codewithharry.comhttps://www.instagram.com/CodeWithHarry/\n"
          ]
        }
      ]
    },
    {
      "cell_type": "code",
      "source": [
        ""
      ],
      "metadata": {
        "id": "T55WNLYs1X6R"
      },
      "execution_count": null,
      "outputs": []
    }
  ]
}